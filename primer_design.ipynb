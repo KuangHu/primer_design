{
 "cells": [
  {
   "cell_type": "code",
   "execution_count": 8,
   "id": "922644c6",
   "metadata": {},
   "outputs": [],
   "source": [
    "import pandas as pd\n",
    "from Bio.Seq import Seq\n",
    "\n",
    "# Define the barcode components\n",
    "flow_cell_p5 = Seq(\"AATGATACGGCGACCACCGAGATCTA\")\n",
    "flow_cell_p7 = Seq(\"CAAGCAGAAGACGGCATACGAGAT\")\n",
    "seq_primer_r1 = Seq(\"CACTCTTTCCCTACACGACGCTCTTCCGATCT\")\n",
    "seq_primer_r2 = Seq(\"GTGACTGGAGTTCAGACGTGTGCTCTTCCGATCT\")"
   ]
  },
  {
   "cell_type": "code",
   "execution_count": 9,
   "id": "5c42c334",
   "metadata": {},
   "outputs": [],
   "source": [
    "def main(f_primer_st,r_primer_st,i7_index_st):\n",
    "    # Define the custom forward and reverse primers\n",
    "    #print(f_primer_st)\n",
    "    f_primer = Seq(f_primer_st) # Example custom forward primer\n",
    "    r_primer = Seq(r_primer_st) # Example custom reverse primer\n",
    "\n",
    "    # Define the I7 index barcode\n",
    "    i7_index = Seq(i7_index_st) # Example I7 index barcode\n",
    "\n",
    "    # Generate the sequencing primers\n",
    "    p5 = flow_cell_p5 + seq_primer_r1\n",
    "    p7 = flow_cell_p7 + i7_index.reverse_complement()+seq_primer_r2\n",
    "\n",
    "    # Generate the complete forward and reverse primers\n",
    "    f_primer_with_barcode = p5 + f_primer\n",
    "    r_primer_with_barcode = p7 + r_primer\n",
    "\n",
    "    # Print the resulting primers\n",
    "    return str(f_primer_with_barcode), str(r_primer_with_barcode)\n"
   ]
  },
  {
   "cell_type": "code",
   "execution_count": 10,
   "id": "65468ee9",
   "metadata": {},
   "outputs": [],
   "source": [
    "def convert_to_plate_position(number):\n",
    "    if number < 1 or number > 96:\n",
    "        return \"Invalid input. Number should be between 1 and 96.\"\n",
    "    \n",
    "    row = chr((number - 1) // 12 + 65)  # Convert to corresponding ASCII character\n",
    "    column = (number - 1) % 12 + 1\n",
    "    \n",
    "    return f\"{row}{column}\""
   ]
  },
  {
   "cell_type": "code",
   "execution_count": 11,
   "id": "fbd2c2ad",
   "metadata": {},
   "outputs": [],
   "source": [
    "def get_primer(df,out_name):\n",
    "    name = []\n",
    "    whole = []\n",
    "    pos = []\n",
    "    for x in range(len(df)):\n",
    "        f,r = main(df['For_match'][x].lower(),df['Rev_match'][x].lower(),df['Code'][x].lower())\n",
    "        name.append(df['Site'][x]+'_F')\n",
    "        whole.append(f)\n",
    "        pos.append(convert_to_plate_position(x+1))\n",
    "        name.append(df['Site'][x]+'_R')\n",
    "        whole.append(r)\n",
    "        pos.append(convert_to_plate_position(x+1))\n",
    "    dict_ = {'pos':pos,'name':name,'seq':whole}\n",
    "    df2 = pd.DataFrame.from_dict(dict_)\n",
    "    df2.to_csv(out_name,index=False)"
   ]
  },
  {
   "cell_type": "code",
   "execution_count": 14,
   "id": "a1ad00ef",
   "metadata": {},
   "outputs": [],
   "source": [
    "input_csv_path = \"batch7_test.csv\"\n",
    "out_name = 'primer_novelseq_batch7_idt.csv'"
   ]
  },
  {
   "cell_type": "code",
   "execution_count": 15,
   "id": "18bd1fc2",
   "metadata": {},
   "outputs": [],
   "source": [
    "df= pd.read_csv('batch7_test.csv',sep=',')\n",
    "get_primer(df,out_name)"
   ]
  }
 ],
 "metadata": {
  "kernelspec": {
   "display_name": "Python 3",
   "language": "python",
   "name": "python3"
  },
  "language_info": {
   "codemirror_mode": {
    "name": "ipython",
    "version": 3
   },
   "file_extension": ".py",
   "mimetype": "text/x-python",
   "name": "python",
   "nbconvert_exporter": "python",
   "pygments_lexer": "ipython3",
   "version": "3.9.5"
  }
 },
 "nbformat": 4,
 "nbformat_minor": 5
}
