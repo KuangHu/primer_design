{
 "cells": [
  {
   "cell_type": "code",
   "execution_count": 5,
   "id": "937e0b6a",
   "metadata": {},
   "outputs": [],
   "source": [
    "import pandas as pd\n",
    "\n",
    "# Define a function to read barcodes from the CSV file\n",
    "def read_used_barcodes(file_path):\n",
    "\n",
    "    df = pd.read_csv(file_path)\n",
    "    # Assuming barcodes are in a column named 'barcode'\n",
    "    used_barcodes = set(df['i7_index'].unique())\n",
    "    return used_barcodes\n",
    "\n",
    "# Define a function to generate new unique barcodes\n",
    "def generate_unique_barcodes(used_barcodes, num_barcodes=1000):\n",
    "\n",
    "    import itertools\n",
    "    import random\n",
    "\n",
    "    # Define the nucleotides\n",
    "    nucleotides = ['A', 'T', 'G', 'C']\n",
    "\n",
    "    # Generate all possible 8bp combinations\n",
    "    all_combinations = set(itertools.product(nucleotides, repeat=8))\n",
    "\n",
    "    # Convert tuples to strings\n",
    "    all_combinations = {''.join(combo) for combo in all_combinations}\n",
    "\n",
    "    # Exclude used barcodes\n",
    "    available_combinations = list(all_combinations - used_barcodes)\n",
    "\n",
    "    # Shuffle and select the required number of barcodes\n",
    "    random.shuffle(available_combinations)\n",
    "    new_barcodes = available_combinations[:num_barcodes]\n",
    "\n",
    "    return new_barcodes\n",
    "\n",
    "# File path to the CSV file\n",
    "file_path = './data/used.csv'\n",
    "\n",
    "\n",
    "used_barcodes = read_used_barcodes(file_path)\n",
    "\n",
    "# Generate 1000 unique barcodes\n",
    "new_barcodes = generate_unique_barcodes(used_barcodes, 5000)"
   ]
  },
  {
   "cell_type": "code",
   "execution_count": 6,
   "id": "a55fc3cc",
   "metadata": {},
   "outputs": [],
   "source": [
    "def save_barcodes_to_csv(barcodes, file_path):\n",
    "    # Create a DataFrame from the list\n",
    "    df = pd.DataFrame(barcodes, columns=['i7_index'])\n",
    "\n",
    "    # Save the DataFrame to a CSV file\n",
    "    df.to_csv(file_path, index=False)\n",
    "\n",
    "\n",
    "new_barcode_file_path = './data/new_barcode.csv'\n",
    "save_barcodes_to_csv(new_barcodes, new_barcode_file_path)"
   ]
  },
  {
   "cell_type": "code",
   "execution_count": null,
   "id": "38fd916b",
   "metadata": {},
   "outputs": [],
   "source": []
  }
 ],
 "metadata": {
  "kernelspec": {
   "display_name": "Python 3",
   "language": "python",
   "name": "python3"
  },
  "language_info": {
   "codemirror_mode": {
    "name": "ipython",
    "version": 3
   },
   "file_extension": ".py",
   "mimetype": "text/x-python",
   "name": "python",
   "nbconvert_exporter": "python",
   "pygments_lexer": "ipython3",
   "version": "3.9.5"
  }
 },
 "nbformat": 4,
 "nbformat_minor": 5
}
